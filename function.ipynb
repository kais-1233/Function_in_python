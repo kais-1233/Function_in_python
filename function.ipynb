{
 "cells": [
  {
   "cell_type": "markdown",
   "id": "a3693587-5cd8-4fda-8628-ffa724cd2c66",
   "metadata": {},
   "source": [
    "#### 1. Explain the importance of Functions"
   ]
  },
  {
   "cell_type": "raw",
   "id": "003a957e-1fff-47cf-8106-3797c2752500",
   "metadata": {},
   "source": [
    "Functions:\n",
    "\n",
    "Improve code reusability.\n",
    "\n",
    "Help in debugging and organizing code better.\n",
    "\n",
    "Reduce code redundancy.\n",
    "\n",
    "Allow modular programming."
   ]
  },
  {
   "cell_type": "markdown",
   "id": "8bdc18cb-8652-4479-951a-31e46b7c1d30",
   "metadata": {},
   "source": [
    "#### 2. Write a basic function to greet students"
   ]
  },
  {
   "cell_type": "code",
   "execution_count": 3,
   "id": "9ddb4598-b30a-4b03-a43b-dd7da3c82a5b",
   "metadata": {},
   "outputs": [
    {
     "name": "stdout",
     "output_type": "stream",
     "text": [
      "Hello Students!\n"
     ]
    }
   ],
   "source": [
    "def greet_students():\n",
    "    print(\"Hello Students!\")\n",
    "greet_students()"
   ]
  },
  {
   "cell_type": "markdown",
   "id": "a8808cae-c355-4bae-863f-5736f1598e74",
   "metadata": {},
   "source": [
    "#### 3. Difference between print and return"
   ]
  },
  {
   "cell_type": "raw",
   "id": "0494cd74-6b2d-4882-adf5-df0cd7133804",
   "metadata": {},
   "source": [
    "print: Displays output to console.\n",
    "\n",
    "return: Sends value back to the caller; used to store or reuse values."
   ]
  },
  {
   "cell_type": "markdown",
   "id": "4b754c15-59d5-42da-9b0b-97db6b5d8e8e",
   "metadata": {},
   "source": [
    "### 4. What are *args and kwargs"
   ]
  },
  {
   "cell_type": "raw",
   "id": "12b4510e-00f4-49b3-8eae-9f4988f9d394",
   "metadata": {},
   "source": [
    "*args: Accepts variable number of positional arguments.\n",
    "\n",
    "**kwargs: Accepts variable number of keyword arguments.\n",
    "\n",
    "python\n",
    "Copy code\n"
   ]
  },
  {
   "cell_type": "markdown",
   "id": "debdef08-2cbf-47b6-a149-9301ccd8d379",
   "metadata": {},
   "source": [
    "#### 5. Explain the iterator function"
   ]
  },
  {
   "cell_type": "raw",
   "id": "2a9c119f-748a-4b52-a4db-135e65da1a3b",
   "metadata": {},
   "source": [
    "An iterator is an object with a __next__() method. Used to iterate over collections like lists, tuples."
   ]
  },
  {
   "cell_type": "code",
   "execution_count": 7,
   "id": "0c537c99-0072-4dc7-a7fd-bd54dcd433f5",
   "metadata": {},
   "outputs": [
    {
     "name": "stdout",
     "output_type": "stream",
     "text": [
      "1\n",
      "2\n"
     ]
    }
   ],
   "source": [
    "numbers = [1, 2, 3]\n",
    "it = iter(numbers)\n",
    "print(next(it))\n",
    "print(next(it))"
   ]
  },
  {
   "cell_type": "markdown",
   "id": "d3d91fdf-894e-4fc0-a228-c8397abe8232",
   "metadata": {},
   "source": [
    "#### 6. Squares of numbers from 1 to n using generator\n"
   ]
  },
  {
   "cell_type": "code",
   "execution_count": 8,
   "id": "c36457c7-0354-4f53-936e-403fa09b5566",
   "metadata": {},
   "outputs": [
    {
     "name": "stdout",
     "output_type": "stream",
     "text": [
      "[1, 4, 9, 16, 25]\n"
     ]
    }
   ],
   "source": [
    "def squares(n):\n",
    "    for i in range(1, n+1):\n",
    "        yield i ** 2\n",
    "\n",
    "print(list(squares(5)))"
   ]
  },
  {
   "cell_type": "markdown",
   "id": "55ac4327-959c-4c5f-833c-052ba880f489",
   "metadata": {},
   "source": [
    "####  7. Palindromic numbers up to n using generator\n",
    " \n"
   ]
  },
  {
   "cell_type": "code",
   "execution_count": 9,
   "id": "5aad4a9d-c092-4fd2-ba9c-c6215ad9a99a",
   "metadata": {},
   "outputs": [
    {
     "name": "stdout",
     "output_type": "stream",
     "text": [
      "[1, 2, 3, 4, 5, 6, 7, 8, 9, 11, 22, 33, 44, 55, 66, 77, 88, 99, 101, 111, 121, 131, 141]\n"
     ]
    }
   ],
   "source": [
    "def is_palindrome(n):\n",
    "    return str(n) == str(n)[::-1]\n",
    "\n",
    "def palindromes(n):\n",
    "    for i in range(1, n+1):\n",
    "        if is_palindrome(i):\n",
    "            yield i\n",
    "\n",
    "print(list(palindromes(150)))"
   ]
  },
  {
   "cell_type": "markdown",
   "id": "0937514b-373a-4405-bf6d-b9310e128671",
   "metadata": {},
   "source": [
    "#### 8. Even numbers from 2 to n using generator"
   ]
  },
  {
   "cell_type": "code",
   "execution_count": 10,
   "id": "d63e28e4-2729-4449-86df-217f4b2d1c02",
   "metadata": {},
   "outputs": [
    {
     "name": "stdout",
     "output_type": "stream",
     "text": [
      "[2, 4, 6, 8, 10]\n"
     ]
    }
   ],
   "source": [
    "def even_numbers(n):\n",
    "    for i in range(2, n+1, 2):\n",
    "        yield i\n",
    "\n",
    "print(list(even_numbers(10)))"
   ]
  },
  {
   "cell_type": "markdown",
   "id": "9ff3beb9-d7c0-4642-994f-8b4ccde47916",
   "metadata": {},
   "source": [
    "####  9. Powers of two up to n using generator"
   ]
  },
  {
   "cell_type": "code",
   "execution_count": 11,
   "id": "0a13c96b-f048-4eef-b120-2a98a43c5132",
   "metadata": {},
   "outputs": [
    {
     "name": "stdout",
     "output_type": "stream",
     "text": [
      "[1, 2, 4, 8, 16]\n"
     ]
    }
   ],
   "source": [
    "def powers_of_two(n):\n",
    "    for i in range(n):\n",
    "        yield 2 ** i\n",
    "\n",
    "print(list(powers_of_two(5)))\n"
   ]
  },
  {
   "cell_type": "markdown",
   "id": "d3ee9dfe-1d5c-4844-8c94-090be186cbe7",
   "metadata": {},
   "source": [
    "#### 10. Prime numbers up to n using generator"
   ]
  },
  {
   "cell_type": "code",
   "execution_count": 12,
   "id": "43d35a41-55c3-4612-aecd-e2200b898cb1",
   "metadata": {},
   "outputs": [
    {
     "name": "stdout",
     "output_type": "stream",
     "text": [
      "[2, 3, 5, 7, 11, 13, 17, 19]\n"
     ]
    }
   ],
   "source": [
    "def is_prime(num):\n",
    "    if num < 2: return False\n",
    "    for i in range(2, int(num ** 0.5) + 1):\n",
    "        if num % i == 0: return False\n",
    "    return True\n",
    "\n",
    "def primes(n):\n",
    "    for i in range(2, n+1):\n",
    "        if is_prime(i):\n",
    "            yield i\n",
    "\n",
    "print(list(primes(20)))\n"
   ]
  },
  {
   "cell_type": "markdown",
   "id": "3ea14e03-e855-4d9d-a486-ae62a111dc9e",
   "metadata": {},
   "source": [
    "#### 11. Lambda Function to Calculate the Sum of Two Numbers"
   ]
  },
  {
   "cell_type": "code",
   "execution_count": 13,
   "id": "13deb22d-629f-444a-a10e-8165ffab9c41",
   "metadata": {},
   "outputs": [
    {
     "name": "stdout",
     "output_type": "stream",
     "text": [
      "Sum: 12\n"
     ]
    }
   ],
   "source": [
    " \n",
    "sum_two = lambda a, b: a + b\n",
    "\n",
    "# Test\n",
    "print(\"Sum:\", sum_two(5, 7))\n"
   ]
  },
  {
   "cell_type": "markdown",
   "id": "c826a54b-f17f-4fb5-889d-9664c66dc874",
   "metadata": {},
   "source": [
    "#### 12. Lambda Function to Calculate the Square of a Number"
   ]
  },
  {
   "cell_type": "code",
   "execution_count": 14,
   "id": "c93a111f-4d4c-4882-a0c7-3672972f76b4",
   "metadata": {},
   "outputs": [
    {
     "name": "stdout",
     "output_type": "stream",
     "text": [
      "Square: 36\n"
     ]
    }
   ],
   "source": [
    " \n",
    "square = lambda x: x ** 2\n",
    "\n",
    "# Test\n",
    "print(\"Square:\", square(6))\n"
   ]
  },
  {
   "cell_type": "markdown",
   "id": "e8a89c0e-88e8-4f41-9a54-f94af0dbe2c9",
   "metadata": {},
   "source": [
    "####  13. Lambda Function to Check Even or Odd"
   ]
  },
  {
   "cell_type": "code",
   "execution_count": 15,
   "id": "92c92f9a-6cfb-4111-8e65-bde77c1e3a1b",
   "metadata": {},
   "outputs": [
    {
     "name": "stdout",
     "output_type": "stream",
     "text": [
      "Check: Odd\n",
      "Check: Even\n"
     ]
    }
   ],
   "source": [
    " \n",
    "even_odd = lambda x: \"Even\" if x % 2 == 0 else \"Odd\"\n",
    "\n",
    "# Test\n",
    "print(\"Check:\", even_odd(7))\n",
    "print(\"Check:\", even_odd(10))\n"
   ]
  },
  {
   "cell_type": "markdown",
   "id": "b6bfd93f-f58f-416a-9709-5b226c3bd8af",
   "metadata": {},
   "source": [
    "#### 14. Lambda Function to Concatenate Two Strings"
   ]
  },
  {
   "cell_type": "code",
   "execution_count": 16,
   "id": "ec6227f6-2553-4276-bdc1-821e06c591ad",
   "metadata": {},
   "outputs": [
    {
     "name": "stdout",
     "output_type": "stream",
     "text": [
      "Concatenated: DataScience\n"
     ]
    }
   ],
   "source": [
    " \n",
    "concat = lambda a, b: a + b\n",
    "\n",
    "# Test\n",
    "print(\"Concatenated:\", concat(\"Data\", \"Science\"))\n"
   ]
  },
  {
   "cell_type": "markdown",
   "id": "d9837258-6fcb-4aa0-904e-992bd01d8136",
   "metadata": {},
   "source": [
    "#### 15. Lambda Function to Find Maximum of Three Numbers"
   ]
  },
  {
   "cell_type": "code",
   "execution_count": 17,
   "id": "9398844d-0963-4717-80ae-44b882cb3f20",
   "metadata": {},
   "outputs": [
    {
     "name": "stdout",
     "output_type": "stream",
     "text": [
      "Maximum: 20\n"
     ]
    }
   ],
   "source": [
    " \n",
    "max_three = lambda a, b, c: max(a, b, c)\n",
    "\n",
    "# Test\n",
    "print(\"Maximum:\", max_three(10, 20, 15))\n"
   ]
  },
  {
   "cell_type": "markdown",
   "id": "30aa3470-7f29-4aa4-938b-70b164a0062d",
   "metadata": {},
   "source": [
    "#### 16. Squares of even numbers from a list"
   ]
  },
  {
   "cell_type": "code",
   "execution_count": 18,
   "id": "c839272c-ebfd-4e05-866c-67c75453fdc9",
   "metadata": {},
   "outputs": [
    {
     "name": "stdout",
     "output_type": "stream",
     "text": [
      "[4, 16, 36]\n"
     ]
    }
   ],
   "source": [
    "nums = [1, 2, 3, 4, 5, 6]\n",
    "even_squares = [x**2 for x in nums if x % 2 == 0]\n",
    "print(even_squares)\n"
   ]
  },
  {
   "cell_type": "markdown",
   "id": "f6c0dbf2-4d73-4b76-bb26-0d9c0e047014",
   "metadata": {},
   "source": [
    "####  17. Product of positive numbers from a list"
   ]
  },
  {
   "cell_type": "code",
   "execution_count": 19,
   "id": "c8b59c23-79d8-4418-8cdd-77d8ef054d26",
   "metadata": {},
   "outputs": [
    {
     "name": "stdout",
     "output_type": "stream",
     "text": [
      "15\n"
     ]
    }
   ],
   "source": [
    "from functools import reduce\n",
    "nums = [1, -2, 3, -4, 5]\n",
    "product = reduce(lambda x, y: x * y, [x for x in nums if x > 0])\n",
    "print(product)\n"
   ]
  },
  {
   "cell_type": "markdown",
   "id": "99c74b55-c72e-4705-9228-c1af119fb53e",
   "metadata": {},
   "source": [
    "####  18. Double odd numbers from a list"
   ]
  },
  {
   "cell_type": "code",
   "execution_count": 20,
   "id": "3bba2b2a-3dc1-40e3-9fca-a2a741495d09",
   "metadata": {},
   "outputs": [
    {
     "name": "stdout",
     "output_type": "stream",
     "text": [
      "[2, 6, 10]\n"
     ]
    }
   ],
   "source": [
    "nums = [1, 2, 3, 4, 5]\n",
    "doubled = [x*2 for x in nums if x % 2 != 0]\n",
    "print(doubled)\n"
   ]
  },
  {
   "cell_type": "markdown",
   "id": "78e6b57e-9811-4c88-b549-b048285547d6",
   "metadata": {},
   "source": [
    "#### 19. Sum of cubes from a list"
   ]
  },
  {
   "cell_type": "code",
   "execution_count": 21,
   "id": "0e835a10-e9b3-4893-ba67-bf03cfb5e470",
   "metadata": {},
   "outputs": [
    {
     "name": "stdout",
     "output_type": "stream",
     "text": [
      "36\n"
     ]
    }
   ],
   "source": [
    "nums = [1, 2, 3]\n",
    "sum_cubes = sum(x**3 for x in nums)\n",
    "print(sum_cubes)\n"
   ]
  },
  {
   "cell_type": "markdown",
   "id": "fcaca068-6ade-4c30-b605-dc74f816586c",
   "metadata": {},
   "source": [
    "#### 20. Filter prime numbers from a list"
   ]
  },
  {
   "cell_type": "code",
   "execution_count": 22,
   "id": "3212c6f7-23ec-40dc-a73f-b3b08aa274f0",
   "metadata": {},
   "outputs": [
    {
     "name": "stdout",
     "output_type": "stream",
     "text": [
      "[2, 5, 11]\n"
     ]
    }
   ],
   "source": [
    "nums = [2, 4, 5, 6, 9, 11]\n",
    "prime_list = list(filter(is_prime, nums))\n",
    "print(prime_list)\n"
   ]
  },
  {
   "cell_type": "markdown",
   "id": "ea07f7aa-a852-4e72-aaf6-12f6ed930e8b",
   "metadata": {},
   "source": [
    "####  What is Encapsulation in OOP?"
   ]
  },
  {
   "cell_type": "raw",
   "id": "0c974fb8-a2d7-4676-8c38-14a1cc4a09ba",
   "metadata": {},
   "source": [
    "Encapsulation means wrapping data (variables) and methods into a single unit (class), restricting direct access to some components."
   ]
  },
  {
   "cell_type": "code",
   "execution_count": 23,
   "id": "4c73d2f3-4a49-4493-803d-d82375f58874",
   "metadata": {},
   "outputs": [
    {
     "name": "stdout",
     "output_type": "stream",
     "text": [
      "Kais\n"
     ]
    }
   ],
   "source": [
    "class Student:\n",
    "    def __init__(self, name):\n",
    "        self.__name = name  # private variable\n",
    "\n",
    "    def get_name(self):\n",
    "        return self.__name\n",
    "\n",
    "s = Student(\"Kais\")\n",
    "print(s.get_name())\n"
   ]
  },
  {
   "cell_type": "markdown",
   "id": "57b80107-1782-4f11-8f5e-25ce389de094",
   "metadata": {},
   "source": [
    "#### 22. Explain the use of access modifiers in Python classes"
   ]
  },
  {
   "cell_type": "raw",
   "id": "de71b070-d537-43a8-b478-1f78d105c261",
   "metadata": {},
   "source": [
    "Public: Accessible from anywhere (name)\n",
    "\n",
    "Protected: Single underscore (_name) – internal use\n",
    "\n",
    "Private: Double underscore (__name) – restricted access\n",
    "\n"
   ]
  },
  {
   "cell_type": "markdown",
   "id": "d6fa8cfc-fb98-476f-8cb1-c5f4c80e3a50",
   "metadata": {},
   "source": [
    "####  23. What is Inheritance in OOP?"
   ]
  },
  {
   "cell_type": "raw",
   "id": "860b32a1-3a07-4a59-8e4f-abda11a6b73c",
   "metadata": {},
   "source": [
    "Inheritance lets a class (child) inherit features from another class (parent)."
   ]
  },
  {
   "cell_type": "code",
   "execution_count": 24,
   "id": "fb8a6251-e733-4759-9085-d769457678d9",
   "metadata": {},
   "outputs": [
    {
     "name": "stdout",
     "output_type": "stream",
     "text": [
      "Animal speaks\n"
     ]
    }
   ],
   "source": [
    "class Animal:\n",
    "    def speak(self):\n",
    "        print(\"Animal speaks\")\n",
    "\n",
    "class Dog(Animal):\n",
    "    pass\n",
    "\n",
    "d = Dog()\n",
    "d.speak()\n"
   ]
  },
  {
   "cell_type": "markdown",
   "id": "9ba49a4e-abae-4e14-a7ff-0fa35d7828ea",
   "metadata": {},
   "source": [
    "####  24. Define Polymorphism in OOP"
   ]
  },
  {
   "cell_type": "raw",
   "id": "0a920a13-c432-4187-843d-a29e3154c4d3",
   "metadata": {},
   "source": [
    "Polymorphism means the same method name can behave differently in different classes."
   ]
  },
  {
   "cell_type": "code",
   "execution_count": 25,
   "id": "8316cba1-20cf-42af-b01f-7c80963c1dc7",
   "metadata": {},
   "outputs": [
    {
     "name": "stdout",
     "output_type": "stream",
     "text": [
      "Meow\n",
      "Woof\n"
     ]
    }
   ],
   "source": [
    "class Cat:\n",
    "    def sound(self):\n",
    "        print(\"Meow\")\n",
    "\n",
    "class Dog:\n",
    "    def sound(self):\n",
    "        print(\"Woof\")\n",
    "\n",
    "for animal in (Cat(), Dog()):\n",
    "    animal.sound()\n"
   ]
  },
  {
   "cell_type": "markdown",
   "id": "037b4ca6-f9c3-42dc-8369-0f88fb302b55",
   "metadata": {},
   "source": [
    "#### 25. Explain method overriding in Python"
   ]
  },
  {
   "cell_type": "raw",
   "id": "a5c04d89-d72b-4df1-904d-c2129dd860e8",
   "metadata": {},
   "source": [
    "Overriding occurs when a child class redefines a method of the parent class."
   ]
  },
  {
   "cell_type": "code",
   "execution_count": 26,
   "id": "919109d4-ff69-4a2f-8800-a0a88cf3754c",
   "metadata": {},
   "outputs": [
    {
     "name": "stdout",
     "output_type": "stream",
     "text": [
      "Woof\n"
     ]
    }
   ],
   "source": [
    "class Animal:\n",
    "    def sound(self):\n",
    "        print(\"Animal sound\")\n",
    "\n",
    "class Dog(Animal):\n",
    "    def sound(self):\n",
    "        print(\"Woof\")\n",
    "\n",
    "Dog().sound()\n"
   ]
  },
  {
   "cell_type": "markdown",
   "id": "4ceb2852-af47-47e3-b2a7-14815e0a966e",
   "metadata": {},
   "source": [
    "#### 26. Animal → Dog: Override make_sound\n",
    " \n"
   ]
  },
  {
   "cell_type": "code",
   "execution_count": 27,
   "id": "e6603061-c5ca-42d8-ba08-00b90707913e",
   "metadata": {},
   "outputs": [
    {
     "name": "stdout",
     "output_type": "stream",
     "text": [
      "Woof!\n"
     ]
    }
   ],
   "source": [
    "class Animal:\n",
    "    def make_sound(self):\n",
    "        print(\"Generic animal sound\")\n",
    "\n",
    "class Dog(Animal):\n",
    "    def make_sound(self):\n",
    "        print(\"Woof!\")\n",
    "\n",
    "Dog().make_sound()\n"
   ]
  },
  {
   "cell_type": "markdown",
   "id": "3d6802d6-ab45-4200-9992-ea90755d5a0c",
   "metadata": {},
   "source": [
    "#### 27. Override move method in Dog"
   ]
  },
  {
   "cell_type": "code",
   "execution_count": 28,
   "id": "c4670884-178d-43e7-854c-d1fdc70eaf62",
   "metadata": {},
   "outputs": [
    {
     "name": "stdout",
     "output_type": "stream",
     "text": [
      "Dog runs\n"
     ]
    }
   ],
   "source": [
    "class Animal:\n",
    "    def move(self):\n",
    "        print(\"Animal moves\")\n",
    "\n",
    "class Dog(Animal):\n",
    "    def move(self):\n",
    "        print(\"Dog runs\")\n",
    "\n",
    "Dog().move()\n"
   ]
  },
  {
   "cell_type": "markdown",
   "id": "65b784e0-057e-4c87-ba6c-30891f4f0f34",
   "metadata": {},
   "source": [
    "#### 28. Create a class Mammal with a method reproduce that prints \"Giving birth to live young.\" Create a class DogMammal inheriting from both Dog and Mammal\n",
    " "
   ]
  },
  {
   "cell_type": "code",
   "execution_count": 29,
   "id": "ac1763cb-b8c0-4c9f-a1bc-d34acd22bc7c",
   "metadata": {},
   "outputs": [
    {
     "name": "stdout",
     "output_type": "stream",
     "text": [
      "Woof!\n",
      "Giving birth to live young.\n"
     ]
    }
   ],
   "source": [
    "class Dog:\n",
    "    def bark(self):\n",
    "        print(\"Woof!\")\n",
    "\n",
    "class Mammal:\n",
    "    def reproduce(self):\n",
    "        print(\"Giving birth to live young.\")\n",
    "\n",
    "class DogMammal(Dog, Mammal):\n",
    "    pass\n",
    "\n",
    "dm = DogMammal()\n",
    "dm.bark()\n",
    "dm.reproduce()\n"
   ]
  },
  {
   "cell_type": "markdown",
   "id": "02a79115-39ff-4919-8541-d3ad19659405",
   "metadata": {},
   "source": [
    "#### 29. Create a class GermanShepherd inheriting from Dog and override the make_sound method to print \"Bark!\""
   ]
  },
  {
   "cell_type": "code",
   "execution_count": 30,
   "id": "7d28b1f6-2e75-4e0a-8645-048966957ea9",
   "metadata": {},
   "outputs": [
    {
     "name": "stdout",
     "output_type": "stream",
     "text": [
      "Bark!\n"
     ]
    }
   ],
   "source": [
    "class Dog:\n",
    "    def make_sound(self):\n",
    "        print(\"Woof!\")\n",
    "\n",
    "class GermanShepherd(Dog):\n",
    "    def make_sound(self):\n",
    "        print(\"Bark!\")\n",
    "\n",
    "gs = GermanShepherd()\n",
    "gs.make_sound()\n"
   ]
  },
  {
   "cell_type": "markdown",
   "id": "74863594-529b-4095-b99f-cf4a6a5693c6",
   "metadata": {},
   "source": [
    "#### 30. Define constructors in both the Animal and Dog classes with different initialization parameters"
   ]
  },
  {
   "cell_type": "code",
   "execution_count": 31,
   "id": "13bdf499-7838-48a9-b401-e9d6daf6c843",
   "metadata": {},
   "outputs": [
    {
     "name": "stdout",
     "output_type": "stream",
     "text": [
      "Species: Canine, Breed: Labrador\n"
     ]
    }
   ],
   "source": [
    "class Animal:\n",
    "    def __init__(self, species):\n",
    "        self.species = species\n",
    "\n",
    "class Dog(Animal):\n",
    "    def __init__(self, species, breed):\n",
    "        super().__init__(species)\n",
    "        self.breed = breed\n",
    "\n",
    "d = Dog(\"Canine\", \"Labrador\")\n",
    "print(f\"Species: {d.species}, Breed: {d.breed}\")\n"
   ]
  },
  {
   "cell_type": "markdown",
   "id": "99d977aa-5759-41f7-80fb-8ac494e3481b",
   "metadata": {},
   "source": [
    "####  31. What is abstraction in Python? How is it implemented?"
   ]
  },
  {
   "cell_type": "raw",
   "id": "8dfa29bf-e100-4677-b9e9-f1d21161bb6c",
   "metadata": {},
   "source": [
    "Abstraction is hiding internal details and showing only essential information. In Python, it's implemented using the abc module and @abstractmethod decorator."
   ]
  },
  {
   "cell_type": "code",
   "execution_count": 32,
   "id": "924f7b5a-372a-4984-a0ff-745f10229bb9",
   "metadata": {},
   "outputs": [
    {
     "name": "stdout",
     "output_type": "stream",
     "text": [
      "Car started\n"
     ]
    }
   ],
   "source": [
    "from abc import ABC, abstractmethod\n",
    "\n",
    "class Vehicle(ABC):\n",
    "    @abstractmethod\n",
    "    def start(self):\n",
    "        pass\n",
    "\n",
    "class Car(Vehicle):\n",
    "    def start(self):\n",
    "        print(\"Car started\")\n",
    "\n",
    "c = Car()\n",
    "c.start()\n"
   ]
  },
  {
   "cell_type": "markdown",
   "id": "25c514e5-6d90-4779-b85c-f60a762d6a20",
   "metadata": {},
   "source": [
    "#### 32. Explain the importance of abstraction in object-oriented programming"
   ]
  },
  {
   "cell_type": "raw",
   "id": "715433af-4133-4733-86ed-7727945303cc",
   "metadata": {},
   "source": [
    "Hides unnecessary details from the user.\n",
    "\n",
    "Focuses on what an object does, not how.\n",
    "\n",
    "Improves code modularity and maintenance.\n",
    "\n",
    "Encourages use of interfaces and base classes."
   ]
  },
  {
   "cell_type": "markdown",
   "id": "0b4392d9-e97c-4865-9da3-a2cb46a39cdd",
   "metadata": {},
   "source": [
    "#### 33. How are abstract methods different from regular methods in Python"
   ]
  },
  {
   "cell_type": "raw",
   "id": "d53ffe21-5fa3-4c74-9460-d733734bd6c4",
   "metadata": {},
   "source": [
    "Abstract methods are declared in an abstract class and do not have a body.\n",
    "\n",
    "They must be overridden in subclasses.\n",
    "\n",
    "Regular methods have implementations and can be directly used or inherited."
   ]
  },
  {
   "cell_type": "markdown",
   "id": "94ff6502-a8d2-43ec-a810-eee2bf42f137",
   "metadata": {},
   "source": [
    "#### 34. How can you achieve abstraction using interfaces in Python"
   ]
  },
  {
   "cell_type": "raw",
   "id": "09505007-4cc5-4a48-b2c6-220c276b4f3d",
   "metadata": {},
   "source": [
    "Python doesn’t have a formal interface keyword but achieves interfaces using abstract base classes (ABC) and abstract methods (@abstractmethod)."
   ]
  },
  {
   "cell_type": "code",
   "execution_count": 33,
   "id": "eac3ef6d-3e94-4768-93f8-69e2660061e7",
   "metadata": {},
   "outputs": [],
   "source": [
    "from abc import ABC, abstractmethod\n",
    "\n",
    "class InterfaceExample(ABC):\n",
    "    @abstractmethod\n",
    "    def do_work(self): pass\n"
   ]
  },
  {
   "cell_type": "markdown",
   "id": "2a62f907-bcde-4552-998f-9bf29860a6dc",
   "metadata": {},
   "source": [
    "#### 35. Can you provide an example of how abstraction can be utilized to create a common interface for a group of related classes in Python"
   ]
  },
  {
   "cell_type": "code",
   "execution_count": 34,
   "id": "d6a17e8a-48d7-42a7-a3c0-0bf5d2603b7c",
   "metadata": {},
   "outputs": [
    {
     "name": "stdout",
     "output_type": "stream",
     "text": [
      "Circle area: π * r^2\n",
      "Square area: side * side\n"
     ]
    }
   ],
   "source": [
    "from abc import ABC, abstractmethod\n",
    "\n",
    "class Shape(ABC):\n",
    "    @abstractmethod\n",
    "    def area(self):\n",
    "        pass\n",
    "\n",
    "class Circle(Shape):\n",
    "    def area(self):\n",
    "        print(\"Circle area: π * r^2\")\n",
    "\n",
    "class Square(Shape):\n",
    "    def area(self):\n",
    "        print(\"Square area: side * side\")\n",
    "\n",
    "for shape in [Circle(), Square()]:\n",
    "    shape.area()\n"
   ]
  },
  {
   "cell_type": "markdown",
   "id": "651111c4-18fb-4643-b303-305c384e57c8",
   "metadata": {},
   "source": [
    "#### 36. How does Python achieve polymorphism through method overriding"
   ]
  },
  {
   "cell_type": "raw",
   "id": "e0fe1401-3577-442e-852b-429b274b798d",
   "metadata": {},
   "source": [
    "Python allows subclasses to override methods defined in parent classes. At runtime, the correct method is called depending on the object type."
   ]
  },
  {
   "cell_type": "markdown",
   "id": "588a95ef-2356-42da-9648-ca751cd8ecb1",
   "metadata": {},
   "source": [
    "#### 37. Define a base class with a method and a subclass that overrides the method\n",
    "\n"
   ]
  },
  {
   "cell_type": "code",
   "execution_count": 35,
   "id": "4fa2346b-b909-40c6-bfea-47dfecda3acc",
   "metadata": {},
   "outputs": [
    {
     "name": "stdout",
     "output_type": "stream",
     "text": [
      "Hello from Child\n"
     ]
    }
   ],
   "source": [
    "class Parent:\n",
    "    def greet(self):\n",
    "        print(\"Hello from Parent\")\n",
    "\n",
    "class Child(Parent):\n",
    "    def greet(self):\n",
    "        print(\"Hello from Child\")\n",
    "\n",
    "c = Child()\n",
    "c.greet()\n"
   ]
  },
  {
   "cell_type": "markdown",
   "id": "7980fa07-b5db-40e1-b109-cea841e5d215",
   "metadata": {},
   "source": [
    "#### 38. Define a base class and multiple subclasses with overridden methods\n"
   ]
  },
  {
   "cell_type": "code",
   "execution_count": 36,
   "id": "ad050203-4741-4182-ad81-1dbc6899ba77",
   "metadata": {},
   "outputs": [
    {
     "name": "stdout",
     "output_type": "stream",
     "text": [
      "Woof\n",
      "Meow\n"
     ]
    }
   ],
   "source": [
    "class Animal:\n",
    "    def make_sound(self):\n",
    "        print(\"Animal sound\")\n",
    "\n",
    "class Dog(Animal):\n",
    "    def make_sound(self):\n",
    "        print(\"Woof\")\n",
    "\n",
    "class Cat(Animal):\n",
    "    def make_sound(self):\n",
    "        print(\"Meow\")\n",
    "\n",
    "for pet in [Dog(), Cat()]:\n",
    "    pet.make_sound()\n"
   ]
  },
  {
   "cell_type": "markdown",
   "id": "3bbc969e-51d8-4345-bf4f-4c4393362058",
   "metadata": {},
   "source": [
    "####  39. How does polymorphism improve code readability and reusability"
   ]
  },
  {
   "cell_type": "raw",
   "id": "782f194e-ecfe-4bf4-a3ec-e2d546517d8a",
   "metadata": {},
   "source": [
    "Allows same interface to be used for different data types or classes.\n",
    "\n",
    "Makes the code cleaner and easier to understand.\n",
    "\n",
    "Encourages the use of reusable and extendable code via base classes."
   ]
  },
  {
   "cell_type": "markdown",
   "id": "f8922268-53d7-4d86-94cc-0b47d5185b4a",
   "metadata": {},
   "source": [
    "#### 40. Describe how Python supports polymorphism with duck typing"
   ]
  },
  {
   "cell_type": "raw",
   "id": "faf301c2-e97a-4f9b-a69e-e2bd00c847ab",
   "metadata": {},
   "source": [
    "Python uses duck typing: “If it walks like a duck and quacks like a duck, it's a duck.” Objects are considered suitable based on their behavior, not their type"
   ]
  },
  {
   "cell_type": "code",
   "execution_count": 37,
   "id": "be74f7f8-7885-497d-a5c7-d6b8becbbf96",
   "metadata": {},
   "outputs": [
    {
     "name": "stdout",
     "output_type": "stream",
     "text": [
      "Quack\n",
      "Hello\n"
     ]
    }
   ],
   "source": [
    "class Duck:\n",
    "    def speak(self):\n",
    "        print(\"Quack\")\n",
    "\n",
    "class Person:\n",
    "    def speak(self):\n",
    "        print(\"Hello\")\n",
    "\n",
    "def call_speak(entity):\n",
    "    entity.speak()\n",
    "\n",
    "call_speak(Duck())\n",
    "call_speak(Person())\n"
   ]
  },
  {
   "cell_type": "markdown",
   "id": "03c53377-7533-4f4e-a37a-1dc272aab2f2",
   "metadata": {},
   "source": [
    "#### 41. How do you achieve encapsulation in Python"
   ]
  },
  {
   "cell_type": "raw",
   "id": "5c4abbff-8a12-4235-9501-e4f606b2d6d5",
   "metadata": {},
   "source": [
    "Encapsulation is done using private (__var) and protected (_var) attributes, and by providing getter/setter methods.\n",
    "\n",
    "python\n",
    "Copy code\n"
   ]
  },
  {
   "cell_type": "code",
   "execution_count": 38,
   "id": "387cc095-2585-4e6b-835a-5b3f678049eb",
   "metadata": {},
   "outputs": [
    {
     "name": "stdout",
     "output_type": "stream",
     "text": [
      "42\n"
     ]
    }
   ],
   "source": [
    "class Encapsulated:\n",
    "    def __init__(self):\n",
    "        self.__data = 42\n",
    "\n",
    "    def get_data(self):\n",
    "        return self.__data\n",
    "\n",
    "e = Encapsulated()\n",
    "print(e.get_data())\n"
   ]
  },
  {
   "cell_type": "markdown",
   "id": "f3678961-f7e4-4a99-8d42-0ddb36197f23",
   "metadata": {},
   "source": [
    "#### 42. Can encapsulation be bypassed in Python? If so, how"
   ]
  },
  {
   "cell_type": "raw",
   "id": "4e7cf5c9-c23f-4e64-b9b3-d62a3cb9d9e8",
   "metadata": {},
   "source": [
    "Yes. Name mangling can be used to access private variables:"
   ]
  },
  {
   "cell_type": "code",
   "execution_count": 39,
   "id": "a1faf0bb-34bd-4f2c-9838-46cd8dddf713",
   "metadata": {},
   "outputs": [
    {
     "name": "stdout",
     "output_type": "stream",
     "text": [
      "123\n"
     ]
    }
   ],
   "source": [
    "class Test:\n",
    "    def __init__(self):\n",
    "        self.__secret = 123\n",
    "\n",
    "t = Test()\n",
    "print(t._Test__secret)  # bypassing\n"
   ]
  },
  {
   "cell_type": "markdown",
   "id": "16ebddf7-eaa5-404f-a46a-1e925fd4b621",
   "metadata": {},
   "source": [
    "#### 43. Implement a class BankAccount with a private balance attribute. Include methods to deposit, withdraw, and check the balance"
   ]
  },
  {
   "cell_type": "code",
   "execution_count": 40,
   "id": "75dcd3fa-bcf6-4784-880c-7ec6c6160d9e",
   "metadata": {},
   "outputs": [
    {
     "name": "stdout",
     "output_type": "stream",
     "text": [
      "600\n"
     ]
    }
   ],
   "source": [
    "class BankAccount:\n",
    "    def __init__(self):\n",
    "        self.__balance = 0\n",
    "\n",
    "    def deposit(self, amount):\n",
    "        self.__balance += amount\n",
    "\n",
    "    def withdraw(self, amount):\n",
    "        if amount <= self.__balance:\n",
    "            self.__balance -= amount\n",
    "        else:\n",
    "            print(\"Insufficient balance\")\n",
    "\n",
    "    def get_balance(self):\n",
    "        return self.__balance\n",
    "\n",
    "account = BankAccount()\n",
    "account.deposit(1000)\n",
    "account.withdraw(400)\n",
    "print(account.get_balance())\n"
   ]
  },
  {
   "cell_type": "markdown",
   "id": "1b1077e1-9eed-42e0-a3a4-1105a7ed4867",
   "metadata": {},
   "source": [
    "####  44. Develop a Person class with private attributes name and email, and methods to set and get the email\n",
    " "
   ]
  },
  {
   "cell_type": "code",
   "execution_count": 41,
   "id": "098a5644-f11b-4650-8970-aef81cdcc8a0",
   "metadata": {},
   "outputs": [
    {
     "name": "stdout",
     "output_type": "stream",
     "text": [
      "newkais@example.com\n"
     ]
    }
   ],
   "source": [
    "class Person:\n",
    "    def __init__(self, name, email):\n",
    "        self.__name = name\n",
    "        self.__email = email\n",
    "\n",
    "    def set_email(self, new_email):\n",
    "        self.__email = new_email\n",
    "\n",
    "    def get_email(self):\n",
    "        return self.__email\n",
    "\n",
    "p = Person(\"Kais\", \"kais@example.com\")\n",
    "p.set_email(\"newkais@example.com\")\n",
    "print(p.get_email())\n"
   ]
  },
  {
   "cell_type": "markdown",
   "id": "83b26315-f2bd-4f1b-a2b4-f3c36ce1159c",
   "metadata": {},
   "source": [
    "#### 45. Why is encapsulation considered a pillar of object-oriented programming (OOP)?"
   ]
  },
  {
   "cell_type": "raw",
   "id": "21031e8b-4598-4bf2-a0ae-ed10949ad076",
   "metadata": {},
   "source": [
    "It hides internal object state and enforces access control.\n",
    "\n",
    "Prevents accidental or unauthorized changes.\n",
    "\n",
    "Promotes modular and secure coding.\n",
    "\n",
    "Supports abstraction and clean interfaces."
   ]
  },
  {
   "cell_type": "markdown",
   "id": "44a0b324-2649-42d8-b498-9dd43a07295a",
   "metadata": {},
   "source": [
    "# 4,5 question are repeated"
   ]
  },
  {
   "cell_type": "code",
   "execution_count": null,
   "id": "9f0a0dd4-e327-4fec-bd2d-fe5d4951ab6e",
   "metadata": {},
   "outputs": [],
   "source": []
  }
 ],
 "metadata": {
  "kernelspec": {
   "display_name": "Python 3 (ipykernel)",
   "language": "python",
   "name": "python3"
  },
  "language_info": {
   "codemirror_mode": {
    "name": "ipython",
    "version": 3
   },
   "file_extension": ".py",
   "mimetype": "text/x-python",
   "name": "python",
   "nbconvert_exporter": "python",
   "pygments_lexer": "ipython3",
   "version": "3.12.4"
  }
 },
 "nbformat": 4,
 "nbformat_minor": 5
}
